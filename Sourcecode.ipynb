{
 "cells": [
  {
   "cell_type": "markdown",
   "id": "loved-wales",
   "metadata": {},
   "source": [
    "## Source code Game Mind Reader\n",
    "*dibuat ulang oleh Annisa Nur Rahmadhani (50420199) kelas 1IA07*"
   ]
  },
  {
   "cell_type": "markdown",
   "id": "usual-catholic",
   "metadata": {},
   "source": [
    "### 1. Penjelasan dan Ide Game\n",
    "*Mind Reader* adalah game sejenis dengan batu-gunting-kertas melawan komputer. Anda dapat memilih angka 1 atau 0. Kemudian komputer akan menebak pilihan Anda menggunakan *machine learning*. Jika komputer benar maka ia mendapat poin, kebalikannya maka Anda mendapat poin. Yang pertama mencapai 10 poin menang!"
   ]
  },
  {
   "cell_type": "markdown",
   "id": "hungarian-postcard",
   "metadata": {},
   "source": [
    "### 2. Import Tools\n",
    "import tools yang akan kita pakai untuk membuat game ini"
   ]
  },
  {
   "cell_type": "code",
   "execution_count": 1,
   "id": "lesser-airfare",
   "metadata": {},
   "outputs": [],
   "source": [
    "from ipywidgets import *\n",
    "import numpy as np"
   ]
  },
  {
   "cell_type": "markdown",
   "id": "civic-bacteria",
   "metadata": {},
   "source": [
    "### 3. Membuat Tombol\n",
    "Tombol ini digunakan untuk menentukan pilihan pengguna."
   ]
  },
  {
   "cell_type": "code",
   "execution_count": 2,
   "id": "instructional-following",
   "metadata": {},
   "outputs": [
    {
     "data": {
      "application/vnd.jupyter.widget-view+json": {
       "model_id": "ab60ec748d814169b2fbc42e2a841b12",
       "version_major": 2,
       "version_minor": 0
      },
      "text/plain": [
       "HBox(children=(Button(description='0', style=ButtonStyle()), Button(description='1', style=ButtonStyle())))"
      ]
     },
     "metadata": {},
     "output_type": "display_data"
    }
   ],
   "source": [
    "btn_zero = Button( description='0')\n",
    "btn_one = Button( description='1')\n",
    "btns = HBox([btn_zero, btn_one])\n",
    "btns"
   ]
  },
  {
   "cell_type": "markdown",
   "id": "welsh-single",
   "metadata": {},
   "source": [
    "### 4. Scoreboard\n",
    "Kita menggunakan dua progress bar untuk menunjukkan scoreboard"
   ]
  },
  {
   "cell_type": "code",
   "execution_count": 22,
   "id": "eight-nightmare",
   "metadata": {},
   "outputs": [
    {
     "data": {
      "application/vnd.jupyter.widget-view+json": {
       "model_id": "40452e6db7e44c0694dea76022ff5447",
       "version_major": 2,
       "version_minor": 0
      },
      "text/plain": [
       "VBox(children=(IntProgress(value=0, bar_style='success', description='You', max=10), IntProgress(value=0, bar_…"
      ]
     },
     "metadata": {},
     "output_type": "display_data"
    }
   ],
   "source": [
    "usr_score = IntProgress( value=0, min=0, max=10, description='You', bar_style='success' )\n",
    "bot_score = IntProgress( value=0, min=0, max=10, description='Bot', bar_style='danger')\n",
    "scoreboard = VBox ( [usr_score, bot_score])\n",
    "scoreboard"
   ]
  },
  {
   "cell_type": "markdown",
   "id": "framed-authority",
   "metadata": {},
   "source": [
    "### 5. Pesan Game Over\n",
    "Di akhir permainan, bergantung dari anda kalah atau menang kita akan mencetak \"You Win\" atau \"You Looser\""
   ]
  },
  {
   "cell_type": "code",
   "execution_count": 25,
   "id": "complicated-angola",
   "metadata": {},
   "outputs": [],
   "source": [
    "final_msg = HTML(\"<h1 style='color:green'>You Win!</h1>\")\n",
    "final_msg.layout.visibility = \"hidden\" "
   ]
  },
  {
   "cell_type": "markdown",
   "id": "continued-firmware",
   "metadata": {},
   "source": [
    "### 6. Game Box\n",
    "Sekarang kita akan menyatukan semua widgets di dalam sebuah kotak bernama game_box"
   ]
  },
  {
   "cell_type": "code",
   "execution_count": 26,
   "id": "banner-comparative",
   "metadata": {},
   "outputs": [
    {
     "data": {
      "application/vnd.jupyter.widget-view+json": {
       "model_id": "a3603d25148146f9b640fcd698614194",
       "version_major": 2,
       "version_minor": 0
      },
      "text/plain": [
       "VBox(children=(HBox(children=(VBox(children=(IntProgress(value=0, bar_style='success', description='You', max=…"
      ]
     },
     "metadata": {},
     "output_type": "display_data"
    }
   ],
   "source": [
    "game_box = VBox([ HBox([scoreboard, final_msg]), btns])\n",
    "game_box"
   ]
  },
  {
   "cell_type": "markdown",
   "id": "acting-contest",
   "metadata": {},
   "source": [
    "### 7. Function : Update Game\n",
    "Di sini kita akan membuat sebuah fungsi untuk melakukan update setelah setiap kali kita memilih angka. Yang akan dilakukan adalah :\n",
    "1. Komputer akan menebak angka yang kita pilih dari riwayat pilihan kita sebelumnya.\n",
    "2. Menambahkan 1 pada score komputer jika menebak anhka anda dengan tepat, dan menambahkan 1 pada score anda jika tebakannya salah.\n",
    "3. Stop permainan saat salah satu sudah menang."
   ]
  },
  {
   "cell_type": "code",
   "execution_count": 3,
   "id": "affecting-crazy",
   "metadata": {},
   "outputs": [],
   "source": [
    "def click_zero(b):\n",
    "    update_game(0)\n",
    "btn_zero.on_click( click_zero )"
   ]
  },
  {
   "cell_type": "code",
   "execution_count": 4,
   "id": "unlikely-lawrence",
   "metadata": {},
   "outputs": [],
   "source": [
    "def click_one(b):\n",
    "    update_game(1)\n",
    "btn_one.on_click( click_one )"
   ]
  },
  {
   "cell_type": "code",
   "execution_count": 21,
   "id": "foster-tension",
   "metadata": {},
   "outputs": [],
   "source": [
    "def update_game( usr_choice ):\n",
    "    prob = sum( usr_history ) / len( usr_history )\n",
    "    comp_choice = np.random.binomial(1, prob, 1)[0]\n",
    "    usr_history.append( usr_choice )\n",
    "    \n",
    "    if comp_choice == usr_choice:\n",
    "        bot_score.value += 1\n",
    "    else:\n",
    "        usr_score.value += 1\n",
    "        \n",
    "    if usr_score.value == 10 or bot_score.value == 10:\n",
    "        if bot_score.value == 10:\n",
    "            final_msg.value = \"<h1 style='color:red'>You Loose!</h1>\"\n",
    "        final_msg.layout.visibility = \"visible\"\n",
    "        btn_zero.disabled = True\n",
    "        btn_one.disabled = True\n",
    "        \n",
    "    return"
   ]
  },
  {
   "cell_type": "code",
   "execution_count": 9,
   "id": "representative-dairy",
   "metadata": {},
   "outputs": [],
   "source": [
    "usr_history = []"
   ]
  },
  {
   "cell_type": "code",
   "execution_count": 10,
   "id": "overhead-sauce",
   "metadata": {},
   "outputs": [],
   "source": [
    "usr_history.append(1)"
   ]
  },
  {
   "cell_type": "code",
   "execution_count": 11,
   "id": "imported-marking",
   "metadata": {},
   "outputs": [],
   "source": [
    "usr_history.append(0)"
   ]
  },
  {
   "cell_type": "code",
   "execution_count": 12,
   "id": "liberal-people",
   "metadata": {},
   "outputs": [
    {
     "data": {
      "text/plain": [
       "[1, 0]"
      ]
     },
     "execution_count": 12,
     "metadata": {},
     "output_type": "execute_result"
    }
   ],
   "source": [
    "usr_history"
   ]
  },
  {
   "cell_type": "code",
   "execution_count": 13,
   "id": "cubic-swiss",
   "metadata": {},
   "outputs": [
    {
     "data": {
      "text/plain": [
       "1"
      ]
     },
     "execution_count": 13,
     "metadata": {},
     "output_type": "execute_result"
    }
   ],
   "source": [
    "sum( usr_history )"
   ]
  },
  {
   "cell_type": "code",
   "execution_count": 14,
   "id": "young-prior",
   "metadata": {},
   "outputs": [
    {
     "data": {
      "text/plain": [
       "2"
      ]
     },
     "execution_count": 14,
     "metadata": {},
     "output_type": "execute_result"
    }
   ],
   "source": [
    "len( usr_history )"
   ]
  },
  {
   "cell_type": "code",
   "execution_count": 15,
   "id": "distributed-purchase",
   "metadata": {},
   "outputs": [
    {
     "data": {
      "text/plain": [
       "0.5"
      ]
     },
     "execution_count": 15,
     "metadata": {},
     "output_type": "execute_result"
    }
   ],
   "source": [
    "prob = sum( usr_history ) / len( usr_history )\n",
    "prob"
   ]
  },
  {
   "cell_type": "code",
   "execution_count": 16,
   "id": "statewide-religion",
   "metadata": {},
   "outputs": [
    {
     "data": {
      "text/plain": [
       "0"
      ]
     },
     "execution_count": 16,
     "metadata": {},
     "output_type": "execute_result"
    }
   ],
   "source": [
    "comp_choice = np.random.binomial(1, prob)\n",
    "comp_choice"
   ]
  },
  {
   "cell_type": "markdown",
   "id": "coral-ambassador",
   "metadata": {},
   "source": [
    "### 8. Play\n",
    "Agar game Mind Reader tampil di file lain"
   ]
  },
  {
   "cell_type": "code",
   "execution_count": 17,
   "id": "split-binary",
   "metadata": {},
   "outputs": [
    {
     "data": {
      "application/vnd.jupyter.widget-view+json": {
       "model_id": "5e286a4ddf9d45ba99f1ec20c3966777",
       "version_major": 2,
       "version_minor": 0
      },
      "text/plain": [
       "VBox(children=(HBox(children=(VBox(children=(IntProgress(value=0, bar_style='success', description='You', max=…"
      ]
     },
     "metadata": {},
     "output_type": "display_data"
    }
   ],
   "source": [
    "display ( game_box )"
   ]
  },
  {
   "cell_type": "code",
   "execution_count": null,
   "id": "mysterious-chess",
   "metadata": {},
   "outputs": [],
   "source": []
  }
 ],
 "metadata": {
  "kernelspec": {
   "display_name": "Python 3",
   "language": "python",
   "name": "python3"
  },
  "language_info": {
   "codemirror_mode": {
    "name": "ipython",
    "version": 3
   },
   "file_extension": ".py",
   "mimetype": "text/x-python",
   "name": "python",
   "nbconvert_exporter": "python",
   "pygments_lexer": "ipython3",
   "version": "3.8.5"
  }
 },
 "nbformat": 4,
 "nbformat_minor": 5
}
